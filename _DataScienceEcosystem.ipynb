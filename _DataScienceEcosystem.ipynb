{
 "cells": [
  {
   "cell_type": "markdown",
   "id": "635f41a7",
   "metadata": {},
   "source": [
    "# Data Science Tools and Ecosystem\n",
    "    "
   ]
  },
  {
   "cell_type": "markdown",
   "id": "59e534d2",
   "metadata": {},
   "source": [
    "In this notebook, Data Science Tools and Ecosystem are summarized."
   ]
  },
  {
   "cell_type": "markdown",
   "id": "c669150c",
   "metadata": {},
   "source": [
    "**Objectives:**\n",
    "\n",
    "- List popular languages for Data Science.\n",
    "- Introduction to commonly used libraries in Data Science.\n",
    "- Create a single-column table in Markdown.\n",
    "- Creating tables in Markdown.\n",
    "- Adding headings and subheadings in Markdown.\n"
   ]
  },
  {
   "cell_type": "markdown",
   "id": "f891fff3",
   "metadata": {},
   "source": [
    "1. Python\n",
    "2. SQL\n",
    "3. R\n",
    "4. VBA (Visual Basic for Applications)\n",
    "5. Julia\n",
    "\n",
    "In addition to the above, there are other top data science coding languages that add value in specialized situations, including:\n",
    "\n",
    "6. JavaScript\n",
    "7. Java\n",
    "8. Scala\n"
   ]
  },
  {
   "cell_type": "markdown",
   "id": "6a584b38",
   "metadata": {},
   "source": [
    "Some of the commonly used libraries used by Data Scientists include:\n",
    "\n",
    "  1. Pandas\n",
    "  2. Numpy\n",
    "  3. Keras\n",
    "  4. Pytorch"
   ]
  },
  {
   "cell_type": "markdown",
   "id": "1d5f3594",
   "metadata": {},
   "source": [
    "<div style=\"text-align: left;\">\n",
    "\n",
    "| Data Science Tools                                                  |\n",
    "| :-----------------------------------------------------------------: |\n",
    "| Jupyter Notebook                                                    |\n",
    "| RStudio                                                             |\n",
    "| VS Code                                                             |\n",
    "\n",
    "</div>"
   ]
  },
  {
   "cell_type": "markdown",
   "id": "4c528edd",
   "metadata": {},
   "source": [
    "### Below are a few examples of evaluating arithmetic expressions in Python."
   ]
  },
  {
   "cell_type": "markdown",
   "id": "1a3e7c71",
   "metadata": {},
   "source": [
    "This a simple arithmetic expression to mutiply then add integers"
   ]
  },
  {
   "cell_type": "code",
   "execution_count": 6,
   "id": "e0a025ce",
   "metadata": {},
   "outputs": [
    {
     "data": {
      "text/plain": [
       "68"
      ]
     },
     "execution_count": 6,
     "metadata": {},
     "output_type": "execute_result"
    }
   ],
   "source": [
    "9*7+5"
   ]
  },
  {
   "cell_type": "markdown",
   "id": "912de113",
   "metadata": {},
   "source": [
    "This will convert 200 minutes to hours by diving by 60"
   ]
  },
  {
   "cell_type": "code",
   "execution_count": 9,
   "id": "ec53b099",
   "metadata": {},
   "outputs": [
    {
     "name": "stdout",
     "output_type": "stream",
     "text": [
      "3.3333333333333335\n"
     ]
    }
   ],
   "source": [
    "totalminutes = 200\n",
    "minutes = 60\n",
    "hours = totalminutes/minutes\n",
    "print(hours)"
   ]
  },
  {
   "cell_type": "markdown",
   "id": "ab1ed456",
   "metadata": {},
   "source": [
    "## Author\n",
    "Yağmur Aksoy"
   ]
  },
  {
   "cell_type": "code",
   "execution_count": null,
   "id": "27d48fa2",
   "metadata": {},
   "outputs": [],
   "source": []
  }
 ],
 "metadata": {
  "kernelspec": {
   "display_name": "Python 3 (ipykernel)",
   "language": "python",
   "name": "python3"
  },
  "language_info": {
   "codemirror_mode": {
    "name": "ipython",
    "version": 3
   },
   "file_extension": ".py",
   "mimetype": "text/x-python",
   "name": "python",
   "nbconvert_exporter": "python",
   "pygments_lexer": "ipython3",
   "version": "3.11.5"
  }
 },
 "nbformat": 4,
 "nbformat_minor": 5
}
